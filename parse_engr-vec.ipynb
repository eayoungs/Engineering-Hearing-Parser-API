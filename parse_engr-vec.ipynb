{
 "cells": [
  {
   "cell_type": "code",
   "execution_count": 1,
   "metadata": {
    "collapsed": true
   },
   "outputs": [],
   "source": [
    "import pandas as pd\n",
    "import re\n",
    "import psycopg2\n",
    "import re\n",
    "import pprint as pp"
   ]
  },
  {
   "cell_type": "code",
   "execution_count": 2,
   "metadata": {
    "collapsed": true
   },
   "outputs": [],
   "source": [
    "sql_schema = \"SELECT * FROM information_schema.columns\"\n",
    "sql_spatial_ref_sys = \"SELECT * FROM spatial_ref_sys\"\n",
    "sql_stclines = \"SELECT * FROM stclines_streets\"\n",
    "sql_stintersections = \"SELECT * FROM stintersections\""
   ]
  },
  {
   "cell_type": "code",
   "execution_count": 3,
   "metadata": {},
   "outputs": [],
   "source": [
    "#CBOW = open ('CBOW.txt','r')\n",
    "conn = psycopg2.connect(dbname=\"gisdata\", user=\"eayoungs\", password=\"\", port=\"5434\")"
   ]
  },
  {
   "cell_type": "code",
   "execution_count": 4,
   "metadata": {},
   "outputs": [
    {
     "name": "stdout",
     "output_type": "stream",
     "text": [
      "(1,\n",
      " 1.0,\n",
      " Decimal('53005000.000000000'),\n",
      " 'UNNAMED 113',\n",
      " None,\n",
      " '53005000',\n",
      " '0101000020B3080000504F1F019BD75641F2AFE5F5D2E73F41')\n"
     ]
    }
   ],
   "source": [
    "cur = conn.cursor()\n",
    "cur.execute(sql_stintersections)\n",
    "rows = cur.fetchall()\n",
    "pp.pprint(rows[0])"
   ]
  },
  {
   "cell_type": "code",
   "execution_count": 5,
   "metadata": {
    "collapsed": true
   },
   "outputs": [],
   "source": [
    "dataDf = pd.DataFrame.from_csv('RESO_Alpha_Sequenced_8_25_17.csv')"
   ]
  },
  {
   "cell_type": "code",
   "execution_count": 6,
   "metadata": {
    "collapsed": true
   },
   "outputs": [],
   "source": [
    "#%%capture\n",
    "pd.options.display.max_colwidth = 300\n",
    "items = dataDf['DESCRIPTION'].to_string(index=False)\n",
    "item = items.replace(',', '').replace('\\n', ' ').replace('.', ' ')\n",
    "item = re.sub(r'\\s{2,}', ' ', item)\n",
    "words = item.split()"
   ]
  },
  {
   "cell_type": "code",
   "execution_count": 7,
   "metadata": {},
   "outputs": [
    {
     "name": "stdout",
     "output_type": "stream",
     "text": [
      "107165\n",
      "[u'ROW', u'4799', u'3rd', u'Street', u'east', u'side', u'at', u'parking', u'meter', u'space']\n"
     ]
    }
   ],
   "source": [
    "print(len(words))\n",
    "print(words[:10])\n",
    "\n",
    "#with open('out.txt', 'w') as f:\n",
    "#    f.write(item)"
   ]
  }
 ],
 "metadata": {
  "kernelspec": {
   "display_name": "Python 2",
   "language": "python",
   "name": "python2"
  },
  "language_info": {
   "codemirror_mode": {
    "name": "ipython",
    "version": 2
   },
   "file_extension": ".py",
   "mimetype": "text/x-python",
   "name": "python",
   "nbconvert_exporter": "python",
   "pygments_lexer": "ipython2",
   "version": "2.7.12"
  }
 },
 "nbformat": 4,
 "nbformat_minor": 2
}
